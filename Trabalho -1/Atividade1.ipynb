{
  "cells": [
    {
      "cell_type": "markdown",
      "metadata": {},
      "source": [
        "# **Projeto 1 PDI - 2021.2**"
      ]
    },
    {
      "cell_type": "markdown",
      "metadata": {},
      "source": [
        "# **Introdução**"
      ]
    },
    {
      "cell_type": "markdown",
      "metadata": {},
      "source": [
        "<p align = \"justify\">&nbsp;&nbsp;&nbsp;&nbsp;O processamento digital de imagens(PDI) é um método para realizar algumas operações em uma imagem, a fim de obter uma imagem aprimorada ou extrair dela alguma informação útil. É um tipo de processamento de sinal em que a entrada é uma imagem e a saída pode ser uma imagem ou características/características associadas a essa imagem. Atualmente, o processamento de imagens está entre as tecnologias em rápido crescimento.</p>\n",
        "\n",
        "<p align = \"justify\">&nbsp;&nbsp;&nbsp;&nbsp;Esse é o primeiro trabalho da disciplina de PDI(processamento digital de imagem), ministrada pelo o professor Leonardo Vidal Batista, o trabalho consiste em desenvolver em uma linguagem de programação de nossa escolha, um sistema para abrir, exibir, manipular e salvar imagens RGB com 24 bits/pixel (8 bits/componente/pixel). sem a utilização de bibliotecas ou funções especiais de processamento de imagens, exceto no item 5, em que o uso de funções avançadas é livre. O sistema deve ter as seguintes funcionalidade:</p>\n",
        "\n",
        "<p align = \"justify\">1. Conversão RGB-YIQ-RGB (cuidado com os limites de R, G e B na volta!).</p>\n",
        "<p align = \"justify\">2. Negativo. Duas formas de aplicação devem ser testadas: em RGB (banda a banda) e \n",
        "na banda Y, com posterior conversão para RGB.</p>\n",
        "<p align = \"justify\">3. Correlação m x n sobre R, G e B, com offset, e filtro e pivô definidos em um arquivo\n",
        "(txt) a parte. Testar com filtros Média e Sobel horizontal e vertical, e explicar os\n",
        "resultados. Para visualização do resultado do Sobel, utilize valor absoluto seguido por\n",
        "expansão de histograma para [0, 255].</p>\n",
        "<p align = \"justify\">4. Filtro mediana m x n, com m e n ímpares, sobre a banda Y do YIQ.</p>\n",
        "<p align = \"justify\">5. Reproduza o exemplo em <br>\n",
        "<a href=\"https://la.mathworks.com/help/images/ref/normxcorr2.html?lang=en\">\n",
        "https://la.mathworks.com/help/images/ref/normxcorr2.html?lang=en</a>, com as \n",
        "imagens woman.png e woman_eye.png. Após localizar a região de correlação\n",
        "máxima, repita a busca excluindo essa região, de modo a localizar a segunda região\n",
        "mais correlacionada com a máscara. Você pode utilizar toda a funcionalidade da\n",
        "linguagem de programação de sua escolha, incluindo bibliotecas avançadas. Para\n",
        "visualização, utilize valor absoluto seguido por expansão de histograma para [0, 255]</p><br>"
      ]
    },
    {
      "cell_type": "markdown",
      "metadata": {},
      "source": [
        "# **Fundamentação Teórica**"
      ]
    },
    {
      "cell_type": "markdown",
      "metadata": {},
      "source": [
        "<p align = \"justify\">&nbsp;&nbsp;&nbsp;&nbsp;O Processamento Digital de Imagens (PDI) não é uma tarefa simples, na realidade envolve um conjunto de tarefas interconectadas (Fig. 1). Tudo se inicia com a captura de uma imagem, a qual, normalmente, corresponde à iluminação que é refletida na superfície dos objetos, realizada através e um sistema de aquisição. Após a captura por um processo de digitalização, uma imagem precisa ser representada de forma apropriada para tratamento computacional. Imagens podem ser representadas em duas ou mais dimensões.\n",
        "</p>(QUEIROZ; GOMES, 2001).<br><br>\n",
        "\n",
        "<p align = \"center\"><img src=\"https://i.ibb.co/Wp0L7TP/image12.png\"></p>\n",
        "<p align = \"center\">Fig. 1 - Etapas do PDI</p><br>\n",
        "\n",
        "<p align = \"justify\">&nbsp;&nbsp;&nbsp;&nbsp;Para elaboração deste trabalho iremos utilizar apenas figuras bidimensionais(2D), Cada ponto na grade bidimensional que representa a imagem digital é denominado elemento de imagem ou pixel. Na Fig. 2, apresenta-se a notação matricial usual para a localização de um pixel no arranjo de pixels de uma imagem bidimensional. O primeiro índice denota a posição da linha, m, na qual o pixel se encontra, enquanto o segundo, n, denota a posição da coluna. Se a imagem digital contiver M linhas e N colunas, o índice m variará de 0 a M-1, enquanto n variará de 0 a N-1. Observe-se o sentido de leitura (varredura) e a convenção usualmente adotada na representação espacial de uma imagem digital.</p>(QUEIROZ; GOMES, 2001).<br><br>\n",
        "\n",
        "<p align = \"center\"><img src=\"https://i.ibb.co/fxzJWB8/image4.png\"></p>\n",
        "<p align = \"center\">Fig. 2 - Representação de uma imagem bidimensional.</p><br>\n",
        "\n",
        "<p align = \"justify\">&nbsp;&nbsp;&nbsp;&nbsp;Os pixels de uma imagem podem ser compostos de apenas um único valor, o qual irá retorna uma imagem com tons de cinza, onde tal valor determinará apenas a intensidade de luminância naquele pixel, mas também pode ser um conjunto de 3 valores(RGB) que em conjunto determinam as cores e a luminância da imagem.</p>\n",
        "\n",
        "<p align = \"justify\">&nbsp;&nbsp;&nbsp;&nbsp;Podemos entender RGB como a abreviatura de um sistema de cores aditivas em que o Vermelho (Red), o Verde (Green) e o Azul (Blue) são combinados de várias formas de modo a reproduzir um largo espectro cromático. O propósito principal do sistema RGB é a reprodução de cores em dispositivos eletrônicos como monitores de TV e computador, retroprojetores, scanners e câmeras digitais, assim como na fotografia tradicional.</p>\n",
        "<p align = \"justify\">&nbsp;&nbsp;&nbsp;&nbsp;As cores são atingidas com a mistura das três cores primárias em um número definido numa escala de 0 a 255. Na mistura das três o valor máximo (255) atinge a cor branca e o valor mínimo (0) resulta na cor preta.</p>\n",
        "\n",
        "<p align = \"justify\">&nbsp;&nbsp;&nbsp;&nbsp;Já YIQ podemos entender como o espaço de cores usado pelo sistema de TV em cores NTSC, empregado principalmente na América do Norte e Central e no Japão. Eu defendo in-phase, enquanto Q significa quadratura, referindo-se aos componentes usados ​​na modulação de amplitude em quadratura. Algumas formas de NTSC agora usam o espaço de cor YUV, que também é usado por outros sistemas, como o PAL</p>\n",
        "\n",
        "<p align = \"justify\">&nbsp;&nbsp;&nbsp;&nbsp;Ao converter uma imagem do sistema de cores RGB para o YIQ é necessário aplicar três fórmulas que extraem a luminância das cores denotada por Y e as crominâncias da imagem que são armazenadas em I e Q.</p><br>\n",
        "\n",
        "**<p align = \"center\">Y = 0.299R + 0.587G + 0.114B<br>\n",
        "I = 0.596R - 0.274G - 0.322B<br>\n",
        "Q = 0.211R - 0.523G + 0.312B</p><br>**\n",
        "\n",
        "<p align = \"justify\">&nbsp;&nbsp;&nbsp;&nbsp;Já para a conversão contrária de YIQ e RGB é necessário aplicar outras três fórmulas para fazer a transcrição de volta da informação não-visual que o sistema YIQ representa para o RGB.</p><br>\n",
        "\n",
        "**<p align = \"center\"> R = 1.000Y + 0.956I + 0.621Q<br>\n",
        "G = 1.000Y - 0.272I - 0.647Q<br>\n",
        "B = 1.000Y - 1.106I + 1.703Q</p><br>**\n",
        "\n",
        "<p align = \"justify\">&nbsp;&nbsp;&nbsp;&nbsp;Em PDI existem uma grande diversidade de filtros para processamneto de imagens, abaixo iremos conhecer melhor alguns filtros os quais foram utilizados durante a elaboração deste trabalho</p><br>\n",
        "\n",
        "<p align = \"justify\">&nbsp;&nbsp;&nbsp;&nbsp;As técnicas de filtragem são transformações da imagem pixel a pixel, que não dependem apenas do nível de cinza de um determinado pixel, mas também do valor dos níveis de cinza dos pixels vizinhos.\n",
        "O processo de filtragem é feito utilizando matrizes denominadas máscaras, as quais são aplicadas sobre a imagem. <p><br>\n",
        "\n",
        "<p align = \"center\"><img src=\"https://i.ibb.co/DgYRWSz/img00001.gif\"></p>\n",
        "<p align = \"center\">Fig. 3 - Máscara de 3 linhas por 3 colunas com centro na posição (2,2).</p><br>\n",
        "\n",
        "<p align = \"justify\">&nbsp;&nbsp;&nbsp;&nbsp;A aplicação da máscara com centro na posição (i,j), sendo i o número de uma dada linha e j o número de uma dada coluna sobre a imagem, consiste na substituição do valor do pixel na posição (i,j) por um novo valor que depende dos valores dos pixels vizinhos e dos pesos da máscara, gerando uma nova imagem com a eliminação das linhas e colunas iniciais e finais da imagem original.</p><br>\n",
        "\n",
        "<p align = \"justify\">&nbsp;&nbsp;&nbsp;&nbsp;Os filtros espaciais podem ser classificados em passa-baixa, passa-alta ou passa-banda. Os dois primeiros são os mais utilizados em processamento de imagens. O filtro passa-banda é mais utilizado em processamentos específicos, principalmente para remover ruídos periódicos.</p><br>\n",
        "\n",
        "<font size=\"4\">**Filtro Negativo de RGB:**</font> <br />\n",
        "\n",
        "<p align = \"justify\">&nbsp;&nbsp;&nbsp;&nbsp;Este filtro faz com que a cor de cada pixel da imagem original se transforme na cor inversa (ex: pixel branco se transforma em pixel preto). A cor inversa é o valor da subtração entre 255 e o valor RGB. Ex: para um amarelo com valor RGB 255, 240, 0, sua cor inversa é o RGB 0, 15, 255</p><br>\n",
        "\n",
        "<font size=\"4\">**Filtro Negativo de YIQ:**</font> <br />\n",
        "\n",
        "<p align = \"justify\">&nbsp;&nbsp;&nbsp;&nbsp;Do mesmo modo existe a possibilidade de aplicar o negativo de modo a não alterar a cor do pixel, O negativo deve se aplicado em Y que representa a luminância, o intervalo de valores do canal Y é o mesmo que os canais RGB(0-250), ou seja, após aplicamos a conversão de um pixel RGB para YIQ devemos efetuar y = 255 - y, mantendo os canais I e Q sem alterações, após deve-se converter de volta para RGB para obtemos o negativo de um com sem alteração da sua cor</p><br>\n",
        "\n",
        "<font size=\"4\">**Filtro da Média:**</font> <br />\n",
        "\n",
        "<p align = \"justify\">&nbsp;&nbsp;&nbsp;&nbsp;O filtro da média percorre toda a imagem, utilizando de uma matriz pre-definida, realizando a troca do quadro na posição central da matriz, na imagem, com o resultado do cálculo da média dos elementos. Quanto maior o filtro, maior a influencia dos vizinhos no cálculo da posição central.</p><br>\n",
        "\n",
        "<font size=\"4\">**Filtro da Médiana:**</font> <br />\n",
        "\n",
        "<p align = \"justify\">&nbsp;&nbsp;&nbsp;&nbsp;O filtro de mediana após enfileirar os termos, através de uma matriz pre-definida, seleciona o termo central ou cálculo dos centros(em casos da quantidade de termos serem pares) e coloca na posição do pixel central. Eles são indicados para reduzir bluring(desfoque).</p><br>\n",
        "\n",
        "<font size=\"4\">**Filtro de Sobel:**</font> <br />\n",
        "\n",
        "<p align = \"justify\">&nbsp;&nbsp;&nbsp;&nbsp;O filtro Sobel é um operador usado no processamento de imagens para detecção de bordas . Este é um dos operadores mais simples<br>\n",
        "\n",
        "<p align = \"justify\">&nbsp;&nbsp;&nbsp;&nbsp;O operador calcula o gradiente da intensidade de cada pixel. Isso indica a direção da mudança mais forte de claro para escuro, bem como a taxa de mudança nessa direção. Conhecemos então os pontos de mudança repentina na luminosidade, provavelmente correspondendo às arestas, bem como a orientação dessas arestas<br>\n",
        "\n",
        "<p align = \"justify\">&nbsp;&nbsp;&nbsp;&nbsp;Em termos matemáticos, o gradiente de uma função de duas variáveis ​​(aqui a intensidade em função das coordenadas da imagem) é um vetor de dimensão 2 cujas coordenadas são as derivadas de acordo com as direções horizontal e vertical. Em cada ponto, o gradiente aponta na direção da maior mudança de intensidade e seu comprimento representa a taxa de mudança nessa direção. O gradiente em uma zona de intensidade constante é, portanto, zero. Em um contorno, o gradiente cruza o contorno, das intensidades mais escuras às intensidades mais claras.</p><br>"
      ]
    },
    {
      "cell_type": "markdown",
      "metadata": {},
      "source": [
        "# **Materiais e Métodos**"
      ]
    },
    {
      "cell_type": "markdown",
      "metadata": {},
      "source": [
        "<p align = \"justify\">&nbsp;&nbsp;&nbsp;&nbsp;Neste trabalho foi desenvolvido utilizando Python, que é uma linguagem de alto nivel que é de forma comumente utilizado para trabalha com processamento digital de imagens, ja que oferece facilidade ao usuário de abrir, ler, manipular e exibir as imagens. Dentro do ambiente da linguagem Python foram utilizadas bibliotecas pontuais para o suporte no desenvolvimento do projeto, dentre elas: \n",
        "\n",
        "\n",
        "* Numpy, utilizada para o arranjo de estruturas de dados, como arrays e matrizes.\n",
        "* Colorsys\n",
        "* Time, responsavel pela conversão do tempo de processamento na unidade de segundos.\n",
        "* cv2, utilizada para o processamento de imagens utilizadas no projeto.\n",
        "* Imageio, utilizada para ler e gravar uma ampla variedade de dados de imagem, incluindo imagens animadas, dados volumétricos e formatos científicos. \n",
        "* Matplotlib, importante biblioteca para criação de gráficos e visualizações de dados em geral.\n",
        "\n",
        "<p align = \"justify\">&nbsp;&nbsp;&nbsp;&nbsp;Antes do desenvolvimento do presente projeto, foi necessário uma etapa de revisão teórica acerca do assunto de processamento digital de imagens, está que teve como suporte as aulas e slides do professor Leonardo Vidal, que administra a disciplina de Introdução do Processamento Digital de Imagens, além do apoio de artigos e textos encontrados na internet, tais conteúdos estão presentes nas referencias do presente relatório. Durante o desenvolvimento, houve a necessidade da plataforma de streaming online Discord para os encontros semanais entre os integrantes do grupo para as discussões acerca do andamento e atividades necessarias para a conclusão do trabalho. \n",
        "</p><br>\n",
        "\n"
      ]
    },
    {
      "cell_type": "markdown",
      "metadata": {},
      "source": [
        "# **Resultados**"
      ]
    },
    {
      "cell_type": "markdown",
      "metadata": {},
      "source": [
        "<p align = \"justify\">&nbsp;&nbsp;&nbsp;&nbsp;Abaixo podemos observar na prática o uso da linguagem Python em conjunto com alguns de seus frameworks os quais auxiliaram na extração, leitura e manipulação de imagens e arquivos para o desenvolvimento do trabalho, exibindo assim seus resultados ao fim de cada quesito.</p>"
      ]
    },
    {
      "cell_type": "markdown",
      "metadata": {},
      "source": [
        "# **Imports e Acesso a Arquivos**"
      ]
    },
    {
      "cell_type": "markdown",
      "metadata": {},
      "source": [
        "Para o desenvolvimento do trabalho foi utilizada a linguagem de programação Python em conjunto com as suas seguintes bibliotecas:"
      ]
    },
    {
      "cell_type": "code",
      "execution_count": 7,
      "metadata": {},
      "outputs": [],
      "source": [
        "import numpy as np\n",
        "import colorsys\n",
        "import time\n",
        "import cv2\n",
        "import imageio\n",
        "from matplotlib.pyplot import imshow\n",
        "from matplotlib import pyplot as plt\n",
        "from PIL import Image, ImageOps"
      ]
    },
    {
      "cell_type": "markdown",
      "metadata": {},
      "source": [
        "Imagens utilizadas:"
      ]
    },
    {
      "cell_type": "code",
      "execution_count": 13,
      "metadata": {},
      "outputs": [
        {
          "name": "stderr",
          "output_type": "stream",
          "text": [
            "'wget' n�o � reconhecido como um comando interno\n",
            "ou externo, um programa oper�vel ou um arquivo em lotes.\n",
            "'wget' n�o � reconhecido como um comando interno\n",
            "ou externo, um programa oper�vel ou um arquivo em lotes.\n",
            "'wget' n�o � reconhecido como um comando interno\n",
            "ou externo, um programa oper�vel ou um arquivo em lotes.\n"
          ]
        }
      ],
      "source": [
        "!wget -O 'imagem.jpg' 'https://i.ibb.co/ct355Xn/homemaranha1.jpg'\n",
        "!wget -O 'wonan_eye.png' 'https://i.ibb.co/jgH96ZM/Woman-eye.png'\n",
        "!wget -O 'wonan.png' 'https://i.ibb.co/f4Y7K03/Woman.png'"
      ]
    },
    {
      "cell_type": "code",
      "execution_count": 12,
      "metadata": {},
      "outputs": [
        {
          "ename": "error",
          "evalue": "OpenCV(4.5.5) D:\\a\\opencv-python\\opencv-python\\opencv\\modules\\imgproc\\src\\color.cpp:182: error: (-215:Assertion failed) !_src.empty() in function 'cv::cvtColor'\n",
          "output_type": "error",
          "traceback": [
            "\u001b[1;31m---------------------------------------------------------------------------\u001b[0m",
            "\u001b[1;31merror\u001b[0m                                     Traceback (most recent call last)",
            "\u001b[1;32m<ipython-input-12-d3822a819cfa>\u001b[0m in \u001b[0;36m<module>\u001b[1;34m\u001b[0m\n\u001b[0;32m      1\u001b[0m \u001b[1;32mimport\u001b[0m \u001b[0mcv2\u001b[0m\u001b[1;33m\u001b[0m\u001b[1;33m\u001b[0m\u001b[0m\n\u001b[0;32m      2\u001b[0m \u001b[0mimg\u001b[0m\u001b[1;33m=\u001b[0m\u001b[0mcv2\u001b[0m\u001b[1;33m.\u001b[0m\u001b[0mimread\u001b[0m\u001b[1;33m(\u001b[0m\u001b[1;34m'imagem.jpg'\u001b[0m\u001b[1;33m)\u001b[0m\u001b[1;33m\u001b[0m\u001b[1;33m\u001b[0m\u001b[0m\n\u001b[1;32m----> 3\u001b[1;33m \u001b[0mcv2\u001b[0m\u001b[1;33m.\u001b[0m\u001b[0mimshow\u001b[0m\u001b[1;33m(\u001b[0m\u001b[1;34m'ImageWindow'\u001b[0m\u001b[1;33m,\u001b[0m\u001b[0mimg\u001b[0m\u001b[1;33m)\u001b[0m\u001b[1;33m\u001b[0m\u001b[1;33m\u001b[0m\u001b[0m\n\u001b[0m",
            "\u001b[1;31merror\u001b[0m: OpenCV(4.5.5) D:\\a\\opencv-python\\opencv-python\\opencv\\modules\\imgproc\\src\\color.cpp:182: error: (-215:Assertion failed) !_src.empty() in function 'cv::cvtColor'\n"
          ]
        }
      ],
      "source": [
        "import cv2\n",
        "img=cv2.imread('imagem.jpg')\n",
        "cv2.imshow('ImageWindow',img)"
      ]
    }
  ],
  "metadata": {
    "interpreter": {
      "hash": "3113e3506d3fcf51833af2472c3339019d01c28b0e5f49cb87592d9b62568d55"
    },
    "kernelspec": {
      "display_name": "Pyolite",
      "language": "python",
      "name": "python3"
    },
    "language_info": {
      "codemirror_mode": {
        "name": "ipython",
        "version": 3
      },
      "file_extension": ".py",
      "mimetype": "text/x-python",
      "name": "python",
      "nbconvert_exporter": "python",
      "pygments_lexer": "ipython3",
      "version": "3.9.0"
    }
  },
  "nbformat": 4,
  "nbformat_minor": 4
}
